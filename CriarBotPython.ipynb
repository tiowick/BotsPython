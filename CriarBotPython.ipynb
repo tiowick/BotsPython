{
 "cells": [
  {
   "cell_type": "markdown",
   "id": "c56b780c",
   "metadata": {},
   "source": [
    "# Criar Bot com Python\n",
    "\n",
    "### Bot no Computador - pyautogui"
   ]
  },
  {
   "cell_type": "code",
   "execution_count": 1,
   "id": "29c87a41",
   "metadata": {},
   "outputs": [],
   "source": [
    "import pyautogui\n",
    "import pyperclip\n",
    "import time\n",
    "pyautogui.PAUSE = 2"
   ]
  },
  {
   "cell_type": "code",
   "execution_count": null,
   "id": "40f52edf",
   "metadata": {},
   "outputs": [],
   "source": [
    "\n",
    "# pip install pyautogui\n",
    "# pip install pyperclip\n",
    "\n",
    "\n",
    "# entrando no instagram já logado!;\n",
    "pyautogui.hotkey('ctrl', 't')\n",
    "pyperclip.copy(\"https://www.instagram.com/\")\n",
    "pyautogui.hotkey('ctrl', 'v')\n",
    "time.sleep(1)\n",
    "pyautogui.press('Enter')\n",
    "time.sleep(6)\n",
    "\n",
    "#clicando pra entrar no perfil!\n",
    "#pyautogui.click(x=879, y=483) # entrando no perfil;\n",
    "pyautogui.click(x=995, y=97)\n",
    "pyautogui.click(x=649, y=490)\n",
    "time.sleep(4)\n",
    "\n",
    "#pyautogui.click(x=83, y=261) #clicando na area de trabalho;\n",
    "#time.sleep(1)\n",
    "pyautogui.click(x=83, y=261)\n",
    "time.sleep(3)\n",
    "\n",
    "pyautogui.click(x=316, y=493) # clicando na barra de escrever;\n",
    "\n",
    "pyautogui.write(\"Postagens Santa\") # escrevendo o nome da pasta;\n",
    "pyautogui.press('Enter')\n",
    "time.sleep(1)\n",
    "\n",
    "pyautogui.click(x=292, y=494) #clicando novamente na barra de escrever\n",
    "pyautogui.write('Quantidade') # ecolhendo o nome da pasta\n",
    "pyautogui.press('Enter') # entrano na pasta\n",
    "pyautogui.click(x=559, y=406)\n",
    "pyautogui.hotkey('ctrl', 'a') #esolhedo foto a ser postada\n",
    "pyautogui.press('Enter') # apertando enter para confirmar\n",
    "pyautogui.click(x=858, y=177)\n",
    "time.sleep(4)\n",
    "pyautogui.click(x=1021, y=179)\n",
    "time.sleep(3)\n",
    "#pyautogui.click(x=795, y=288)\n",
    "pyautogui.click(x=590, y=337)\n",
    "pyperclip.copy(\"fashion._san\")\n",
    "pyautogui.hotkey(\"ctrl\", \"v\")\n",
    "pyautogui.press('Backspace')\n",
    "time.sleep(4)\n",
    "pyautogui.click(x=704, y=451)\n",
    "time.sleep(1)\n",
    "pyautogui.click(x=752, y=278)\n",
    "\n",
    "pyautogui.write(\"Venha conferir !!!!\")\n",
    "time.sleep(1)\n",
    "pyautogui.press(\"Enter\")\n",
    "time.sleep(1)\n",
    "pyperclip.copy(\"Peças femininas e masculinas,\")\n",
    "pyautogui.hotkey('ctrl', 'v')\n",
    "time.sleep(1)\n",
    "pyautogui.press(\"Enter\")\n",
    "time.sleep(1)\n",
    "pyautogui.write(\"artigos para armarinho,\")\n",
    "time.sleep(1)\n",
    "pyautogui.press(\"Enter\")\n",
    "time.sleep(1)\n",
    "pyautogui.write(\"perfumaria e muito mais!\")\n",
    "time.sleep(1)\n",
    "pyautogui.press(\"Enter\")\n",
    "time.sleep(1)\n",
    "#pyperclip.copy(\"Para mais informações segue link para contato!!\")\n",
    "#pyautogui.hotkey('ctrl','v' )\n",
    "#time.sleep(1)\n",
    "#pyautogui.press('Enter')\n",
    "#time.sleep(1)\n",
    "#pyautogui.write(\" https://api.whatsapp.com/send?phone=5571981077875\")\n",
    "\n",
    "pyautogui.click(x=1000, y=178)\n",
    "\n",
    "\n",
    "#pyautogui.click(x=871, y=606) \n",
    "\n",
    "#pyautogui.click(x=853, y=517)\n",
    "\n",
    "#pyautogui.wire('Maculino')\n",
    "\n",
    "#pyautogui.click(x=885, y=453)perfumaria e muito mais!\n",
    "#pyautogui.click(x=841, y=404)\n",
    "#Postagens Santa\n",
    "#pyautogui.hotkey('win', 'd')# area de trabalho"
   ]
  },
  {
   "cell_type": "raw",
   "id": "41c06800",
   "metadata": {},
   "source": [
    "\n"
   ]
  },
  {
   "cell_type": "code",
   "execution_count": null,
   "id": "0b6d82e8",
   "metadata": {},
   "outputs": [],
   "source": [
    "import time\n",
    "\n",
    "time.sleep(5)\n",
    "pyautogui.position()"
   ]
  },
  {
   "cell_type": "markdown",
   "id": "d54af9d3",
   "metadata": {},
   "source": [
    "### Bot na Internet - Selenium"
   ]
  },
  {
   "cell_type": "code",
   "execution_count": null,
   "id": "836a35cd",
   "metadata": {},
   "outputs": [],
   "source": []
  },
  {
   "cell_type": "code",
   "execution_count": null,
   "id": "d62d6ca0",
   "metadata": {},
   "outputs": [],
   "source": []
  }
 ],
 "metadata": {
  "kernelspec": {
   "display_name": "Python 3 (ipykernel)",
   "language": "python",
   "name": "python3"
  },
  "language_info": {
   "codemirror_mode": {
    "name": "ipython",
    "version": 3
   },
   "file_extension": ".py",
   "mimetype": "text/x-python",
   "name": "python",
   "nbconvert_exporter": "python",
   "pygments_lexer": "ipython3",
   "version": "3.9.7"
  }
 },
 "nbformat": 4,
 "nbformat_minor": 5
}
